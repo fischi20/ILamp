{
 "cells": [
  {
   "cell_type": "markdown",
   "metadata": {},
   "source": [
    "# Sense hat project docs\n",
    "\n",
    "#### Setting up sensehat variable"
   ]
  },
  {
   "cell_type": "code",
   "execution_count": null,
   "metadata": {},
   "outputs": [],
   "source": [
    "from sense_hat import SenseHat\n",
    "\n",
    "sense = SenseHat()\n",
    "sense.clear() #clears matrix in case something remained from before"
   ]
  },
  {
   "cell_type": "markdown",
   "metadata": {},
   "source": [
    "#### Access Temperature and humidity"
   ]
  },
  {
   "cell_type": "code",
   "execution_count": null,
   "metadata": {},
   "outputs": [],
   "source": [
    "sense.get_temperature() # get's the temperature measured by the sense hat\n",
    "\n",
    "sense.get_humidity() # get's the humidity measured by the sense hat"
   ]
  },
  {
   "cell_type": "markdown",
   "metadata": {},
   "source": [
    "##### Colors"
   ]
  },
  {
   "cell_type": "code",
   "execution_count": null,
   "metadata": {},
   "outputs": [],
   "source": [
    "r = (255, 0, 0)     # red\n",
    "o = (255, 128, 0)   # orange\n",
    "y = (255, 255, 0)   # yellow\n",
    "g = (0, 255, 0)     # green\n",
    "c = (0, 255, 255)   # cyan\n",
    "b = (0, 0, 255)     # blue\n",
    "p = (255, 0, 255)   # purple\n",
    "n = (255, 128, 128) # pink\n",
    "w =(255, 255, 255)  # white\n",
    "k = (0, 0, 0)       # blank"
   ]
  }
 ],
 "metadata": {
  "interpreter": {
   "hash": "949777d72b0d2535278d3dc13498b2535136f6dfe0678499012e853ee9abcab1"
  },
  "kernelspec": {
   "display_name": "Python 3.10.0 64-bit",
   "language": "python",
   "name": "python3"
  },
  "language_info": {
   "codemirror_mode": {
    "name": "ipython",
    "version": 3
   },
   "file_extension": ".py",
   "mimetype": "text/x-python",
   "name": "python",
   "nbconvert_exporter": "python",
   "pygments_lexer": "ipython3",
   "version": "3.10.0"
  },
  "orig_nbformat": 4
 },
 "nbformat": 4,
 "nbformat_minor": 2
}
