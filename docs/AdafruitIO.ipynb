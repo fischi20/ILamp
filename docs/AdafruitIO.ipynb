{
 "cells": [
  {
   "cell_type": "markdown",
   "metadata": {},
   "source": [
    "# Adafruit IO project docs"
   ]
  },
  {
   "cell_type": "markdown",
   "metadata": {},
   "source": [
    "You can find a more extensive documentation for the Adafruit_IO module [here](https://adafruit-io-python-client.readthedocs.io/en/latest/quickstart.html)"
   ]
  },
  {
   "cell_type": "markdown",
   "metadata": {},
   "source": [
    "#### Setting up adafruitIO client"
   ]
  },
  {
   "cell_type": "code",
   "execution_count": null,
   "metadata": {},
   "outputs": [],
   "source": [
    "from Adafruit_IO import Client, MQTTClient, Feed, Data\n",
    "\n",
    "aio = Client('YOUR ADAFRUIT USER', 'YOUR ADAFRUIT IO KEY')\n"
   ]
  },
  {
   "cell_type": "markdown",
   "metadata": {},
   "source": [
    "## Send and recieve data from a feed"
   ]
  },
  {
   "cell_type": "code",
   "execution_count": null,
   "metadata": {},
   "outputs": [],
   "source": [
    "aio.send('Foo', 100) # sends 100 to the feed Foo\n",
    "\n",
    "data = aio.receive('Foo') # get's most reacent value in feed Foo\n",
    "print(data.value) # prints value of the value of the retrieved data"
   ]
  },
  {
   "cell_type": "markdown",
   "metadata": {},
   "source": [
    "#### Create, retrieve, delete Feeds"
   ]
  },
  {
   "cell_type": "code",
   "execution_count": null,
   "metadata": {},
   "outputs": [],
   "source": [
    "# Create a feed called Foo\n",
    "# Feed has the parameters name, ID, key\n",
    "feed = Feed(name='Foo')\n",
    "\n",
    "result = aio.create_feed(feed) # result will contain all the details about the feed\n",
    "\n",
    "#===============================\n",
    "# Retrieve feeds on IO\n",
    "feeds = aio.feeds()\n",
    "\n",
    "# Print out the feed names:\n",
    "for f in feeds:\n",
    "    print('Feed: {0}'.format(f.name))\n",
    "\n",
    "#===============================\n",
    "# deletes feed with name foo\n",
    "aio.delete_feed('Foo')"
   ]
  },
  {
   "cell_type": "markdown",
   "metadata": {},
   "source": [
    "#### Data"
   ]
  },
  {
   "cell_type": "code",
   "execution_count": null,
   "metadata": {},
   "outputs": [],
   "source": [
    "# creates data item with value 10\n",
    "data = Data(value=10)\n",
    "\n",
    "# adds data item to the Foo feed\n",
    "aio.create_data('Foo', data)\n",
    "\n",
    "#===============================\n",
    "# Retrieve data\n",
    "\n",
    "#Get array of all data items from feed Foo\n",
    "data = aio.data('Foo')\n",
    "\n",
    "#===============================\n",
    "# Delete data\n",
    "\n",
    "#Delete a data value from Foo 'Test' with ID 1.\n",
    "data = aio.delete('Foo', 1)"
   ]
  },
  {
   "cell_type": "markdown",
   "metadata": {},
   "source": [
    "# MQTT Client"
   ]
  },
  {
   "cell_type": "code",
   "execution_count": null,
   "metadata": {},
   "outputs": [],
   "source": [
    "client = MQTTClient('YOUR ADAFRUIT USER', 'YOUR ADAFRUIT IO KEY')\n",
    "\n",
    "client.connect()\n",
    "\n",
    "\n",
    "def message(client, feed_id, payload):\n",
    "    # prints out the feed id and the payload\n",
    "    print('Feed {0} received new value: {1}'.format(feed_id, payload))\n",
    "\n",
    "def connected(client):\n",
    "    # listens to feed Foo\n",
    "    client.subscribe('Foo')\n",
    "\n",
    "def disconnected(client):\n",
    "    print('Disconnected from Adafruit IO!')\n",
    "\n",
    "client.on_message = message\n",
    "client.on_connect = connected\n",
    "client.on_disconnect = disconnected\n",
    "\n",
    "# loops to check for new data\n",
    "client.loop_blocking()\n",
    "\n",
    "# Alternative non blocking way\n",
    "# client.loop_background()\n"
   ]
  }
 ],
 "metadata": {
  "interpreter": {
   "hash": "949777d72b0d2535278d3dc13498b2535136f6dfe0678499012e853ee9abcab1"
  },
  "kernelspec": {
   "display_name": "Python 3.10.0 64-bit",
   "language": "python",
   "name": "python3"
  },
  "language_info": {
   "codemirror_mode": {
    "name": "ipython",
    "version": 3
   },
   "file_extension": ".py",
   "mimetype": "text/x-python",
   "name": "python",
   "nbconvert_exporter": "python",
   "pygments_lexer": "ipython3",
   "version": "3.10.0"
  },
  "orig_nbformat": 4
 },
 "nbformat": 4,
 "nbformat_minor": 2
}
