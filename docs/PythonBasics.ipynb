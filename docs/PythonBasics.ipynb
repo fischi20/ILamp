{
 "cells": [
  {
   "cell_type": "markdown",
   "metadata": {},
   "source": [
    "# Maybe usefull python reminders\n",
    "\n",
    "## IO\n",
    "\n",
    "- #### Read data from files"
   ]
  },
  {
   "cell_type": "code",
   "execution_count": null,
   "metadata": {},
   "outputs": [],
   "source": [
    "with open('resources/file.json', 'r') as fr:\n",
    "    # do stuff here\n",
    "    # text = fr.read()\n",
    "    for line in fr:\n",
    "        print(line, end=\"\")"
   ]
  },
  {
   "cell_type": "markdown",
   "metadata": {},
   "source": [
    "- #### Write data to files"
   ]
  },
  {
   "cell_type": "code",
   "execution_count": null,
   "metadata": {},
   "outputs": [],
   "source": [
    "with open('resources/file.txt', 'w') as fw:\n",
    "    fw.write('Text to write')"
   ]
  },
  {
   "cell_type": "markdown",
   "metadata": {},
   "source": [
    "- #### Append data to files"
   ]
  },
  {
   "cell_type": "code",
   "execution_count": null,
   "metadata": {},
   "outputs": [],
   "source": [
    "with open('resources/file.txt', 'a') as fa:\n",
    "    fa.write('text to append')"
   ]
  },
  {
   "cell_type": "markdown",
   "metadata": {},
   "source": [
    "- #### Read from json file and parse to dictionary"
   ]
  },
  {
   "cell_type": "code",
   "execution_count": null,
   "metadata": {},
   "outputs": [],
   "source": [
    "import json\n",
    "\n",
    "data = None\n",
    "\n",
    "with open('resources/file.json', 'r') as jsonfile:\n",
    "    data = json.load(jsonfile)\n",
    "\n",
    "print(data)"
   ]
  },
  {
   "cell_type": "markdown",
   "metadata": {},
   "source": [
    "## Sleep"
   ]
  },
  {
   "cell_type": "code",
   "execution_count": null,
   "metadata": {},
   "outputs": [],
   "source": [
    "import time\n",
    "\n",
    "duration = 2 #seconds to sleep\n",
    "\n",
    "time.sleep(duration);"
   ]
  },
  {
   "cell_type": "markdown",
   "metadata": {},
   "source": [
    "## Loops"
   ]
  },
  {
   "cell_type": "code",
   "execution_count": null,
   "metadata": {},
   "outputs": [],
   "source": [
    "# print items from 0 to 10\n",
    "for a in range(5):\n",
    "    print(a)\n",
    "\n",
    "print('==========')\n",
    "\n",
    "#prints from 10 to 0 starting from 10, going to 0 with steps of -1\n",
    "for a in range(10, 0, -1):\n",
    "    print(a)\n",
    "\n",
    "l = [4, 3, 2, 1]\n",
    "\n",
    "print('==========')\n",
    "\n",
    "# print all items in list l\n",
    "for a in l:\n",
    "    print(a)\n",
    "\n",
    "print('==========')\n",
    "\n",
    "thisdict = {\n",
    "  \"brand\": \"Ford\",\n",
    "  \"model\": \"Mustang\",\n",
    "  \"year\": 1964\n",
    "}\n",
    "\n",
    "# print all keys of thisdict\n",
    "for x in thisdict:\n",
    "    print(x)"
   ]
  },
  {
   "cell_type": "markdown",
   "metadata": {},
   "source": [
    "## List comprehensions"
   ]
  },
  {
   "cell_type": "code",
   "execution_count": null,
   "metadata": {},
   "outputs": [],
   "source": [
    "x = [f for f in range(1,5)]\n",
    "print(x)\n",
    "\n",
    "# new_list_if = [expression for element in iterable if condition]\n",
    "# new_list_if_else = [expression for element in iterable if condition else alternative_expression]\n",
    "\n",
    "x = [f for f in range(1,5) if f % 2 == 0]\n",
    "print(x)\n",
    "\n",
    "x = [f if f % 2 == 0 else f/3 for f in range(1,5)]\n",
    "print(x)\n",
    "\n",
    "value = 123\n",
    "print(value, 'is', 'even' if value % 2 == 0 else 'odd')\n",
    "\n",
    "# Tuples\n",
    "\n",
    "x = [(a,b) for a in range(1,5) for b in ['Hagrid', 'JL', 'Moyu']]\n",
    "print(x)\n",
    "\n",
    "# Dictionary comprehensions\n",
    "\n",
    "old_dict = {'one': 'ein', 'two': 'zwei', 'three': 'drei'}\n",
    "new_dict = {k: len(v) for (k,v) in old_dict.items()}\n",
    "print(new_dict)"
   ]
  }
 ],
 "metadata": {
  "interpreter": {
   "hash": "949777d72b0d2535278d3dc13498b2535136f6dfe0678499012e853ee9abcab1"
  },
  "kernelspec": {
   "display_name": "Python 3.10.0 64-bit",
   "language": "python",
   "name": "python3"
  },
  "language_info": {
   "codemirror_mode": {
    "name": "ipython",
    "version": 3
   },
   "file_extension": ".py",
   "mimetype": "text/x-python",
   "name": "python",
   "nbconvert_exporter": "python",
   "pygments_lexer": "ipython3",
   "version": "3.10.0"
  },
  "orig_nbformat": 4
 },
 "nbformat": 4,
 "nbformat_minor": 2
}
